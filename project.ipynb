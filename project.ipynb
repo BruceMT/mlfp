{
 "nbformat": 4,
 "nbformat_minor": 2,
 "metadata": {
  "language_info": {
   "name": "python",
   "codemirror_mode": {
    "name": "ipython",
    "version": 3
   }
  },
  "orig_nbformat": 2,
  "file_extension": ".py",
  "mimetype": "text/x-python",
  "name": "python",
  "npconvert_exporter": "python",
  "pygments_lexer": "ipython3",
  "version": 3
 },
 "cells": [
  {
   "cell_type": "code",
   "execution_count": null,
   "metadata": {},
   "outputs": [],
   "source": [
    "import numpy as np\n",
    "import pandas as pd\n",
    "from sklearn import preprocessing\n",
    "from sklearn.model_selection import train_test_split\n",
    "\n",
    "f=pd.read_csv(\"BCHI-dataset_2019-03-04.csv\")\n",
    "\n",
    "f=f[f.Indicator.isin(['Lung Cancer Mortality Rate (Age-Adjusted; Per 100,000 people)'])]\n",
    "tset=f[[\"Year\",\"Sex\",\"Race/Ethnicity\",\"Place\"]].values\n",
    "head=list(f.columns.values)\n",
    "resualt=f[\"Value\"].values\n",
    "\n",
    "le = preprocessing.LabelEncoder()\n",
    "for i in range(4):\n",
    "    tset[:,i] = le.fit_transform(tset[:,i])\n",
    "\n",
    "X_train, X_test, y_train, y_test = train_test_split(tset, resualt, test_size=0.30)\n",
    "\n",
    "\n"
   ]
  },
  {
   "cell_type": "code",
   "execution_count": null,
   "metadata": {},
   "outputs": [],
   "source": []
  }
 ]
}